{
  "nbformat": 4,
  "nbformat_minor": 0,
  "metadata": {
    "colab": {
      "name": "CFG.ipynb",
      "provenance": [],
      "machine_shape": "hm"
    },
    "kernelspec": {
      "name": "python3",
      "display_name": "Python 3"
    },
    "accelerator": "GPU"
  },
  "cells": [
    {
      "cell_type": "markdown",
      "metadata": {
        "id": "NXnd4uQRBjgj",
        "colab_type": "text"
      },
      "source": [
        "#Input format\n",
        "\n",
        "This code is used only to convert RHS of terminal which has more than 2 words i.e, to convert into CFG into CNF\n",
        "\n",
        "only formula with terminal is enough because it only minimize the RHS of formula.\n",
        "\n",
        "\n",
        "Eg:\n",
        "*   S -> A AB ABC AA\n",
        "*   A -> Z\n",
        "*   .\n",
        "*   .\n",
        "*   .\n",
        "\n",
        "\n",
        "\n",
        "\n",
        "input format : excel"
      ]
    },
    {
      "cell_type": "code",
      "metadata": {
        "id": "0tlE5JYzaSqY",
        "colab_type": "code",
        "colab": {}
      },
      "source": [
        "def in_xml(filepath):\n",
        "  #filepath = \"/content/CFG.xlsx\"\n",
        "  import pandas as pd\n",
        "  df = pd.read_excel(filepath)\n",
        "  if df.shape[0]>1:\n",
        "    print(\"Please recheck the input format...! only formula of terminal is enough\")\n",
        "  else:\n",
        "    df[\"B\"] = df[\"A\"].apply(lambda x: x.split(\"->\")[0])\n",
        "    df[\"C\"] = df[\"A\"].apply(lambda x: x.split(\"->\")[1])\n",
        "    l = df[\"B\"].to_list()\n",
        "    r = df[\"C\"].to_list()\n",
        "\n",
        "    #l = [] #LHS of CFG\n",
        "    #r = [] #RHS of CFG\n",
        "    def CON_CNF(LR,RF):\n",
        "      lhs = LR\n",
        "      rhs = RF\n",
        "      rr = RF #copying\n",
        "      ter = [] #terminals that going to rep\n",
        "      klst = [] # rep keys\n",
        "      \n",
        "      import string\n",
        "      import random\n",
        "      def string_generator(lst,size=4):\n",
        "        chars = string.ascii_uppercase\n",
        "        v = ''.join(random.choice(chars) for _ in range(size))\n",
        "        if v in lst:\n",
        "          return string_generator(lst)\n",
        "        return v\n",
        "\n",
        "      def rep_val_list(RHS,rep_val,key_val):\n",
        "        rep = []\n",
        "        for ik in range(len(RHS)):\n",
        "          txt = \" \"+ str(RHS[ik]) + \" \"\n",
        "          rrr = \" \"+ rep_val +\" \"\n",
        "          kv = \" \"+ key_val+\" \"\n",
        "          a = txt.replace(rrr,kv)\n",
        "          #print(a)\n",
        "          rep.append(a.strip())\n",
        "        return rep\n",
        "\n",
        "      for ij in range(len(rr)):\n",
        "        text = rr[ij]\n",
        "        x = text.split()\n",
        "        while len(x)> 2:\n",
        "          if len(x)>2:\n",
        "            s = x[:2]\n",
        "            k = \" \".join(s)\n",
        "            ter.append(k)\n",
        "            u = string_generator(klst)\n",
        "            klst.append(u)\n",
        "            text = text.replace(k,u)\n",
        "            x = text.split()\n",
        "            #print(k,u)\n",
        "            rr = rep_val_list(rr,k,u)\n",
        "            #print(rr)\n",
        "            lhs.append(u)\n",
        "          if len(x) == 2:\n",
        "            break\n",
        "      for il in ter:\n",
        "        rr.append(il)\n",
        "      return lhs, rr\n",
        "\n",
        "    B,C = CON_CNF(l,r)\n",
        "    ddd = pd.DataFrame(list(zip(B, C)),columns =['org', 'rep']) \n",
        "    ddd[\"FR\"] = ddd[\"org\"]+ \"->\" +ddd[\"rep\"]\n",
        "    #ddd.to_csv(\"CNFABC.csv\") #delete # if you need output of LHS & RHS seperatly\n",
        "    ddd[\"FR\"].to_csv(\"CNF.csv\") #output in A->B format"
      ],
      "execution_count": 0,
      "outputs": []
    },
    {
      "cell_type": "markdown",
      "metadata": {
        "id": "0tMKtxNBCyH2",
        "colab_type": "text"
      },
      "source": [
        "# Run this code below"
      ]
    },
    {
      "cell_type": "code",
      "metadata": {
        "id": "-N-fahcmA9t_",
        "colab_type": "code",
        "colab": {
          "base_uri": "https://localhost:8080/",
          "height": 34
        },
        "outputId": "add3d24c-2f83-4b02-d1bb-e20eacc12265"
      },
      "source": [
        "in_xml(\"/content/CFG.xlsx\")"
      ],
      "execution_count": 30,
      "outputs": [
        {
          "output_type": "stream",
          "text": [
            "Please recheck the input format...! only formula of terminal is enough\n"
          ],
          "name": "stdout"
        }
      ]
    },
    {
      "cell_type": "code",
      "metadata": {
        "id": "NBtotDQMBBbL",
        "colab_type": "code",
        "colab": {}
      },
      "source": [
        ""
      ],
      "execution_count": 0,
      "outputs": []
    }
  ]
}