{
  "nbformat": 4,
  "nbformat_minor": 0,
  "metadata": {
    "colab": {
      "name": "SQL Syntax into CFG form.ipynb",
      "provenance": [],
      "collapsed_sections": [],
      "include_colab_link": true
    },
    "kernelspec": {
      "name": "python3",
      "display_name": "Python 3"
    },
    "accelerator": "GPU"
  },
  "cells": [
    {
      "cell_type": "markdown",
      "metadata": {
        "id": "view-in-github",
        "colab_type": "text"
      },
      "source": [
        "<a href=\"https://colab.research.google.com/github/anandsubbu007/SQL-Syntax-into-CFG-then-CNF/blob/master/SQL_Syntax_into_CFG_form.ipynb\" target=\"_parent\"><img src=\"https://colab.research.google.com/assets/colab-badge.svg\" alt=\"Open In Colab\"/></a>"
      ]
    },
    {
      "cell_type": "markdown",
      "metadata": {
        "id": "Nx-_lYfkewFP",
        "colab_type": "text"
      },
      "source": [
        "# Creating CFG from SQL Documentation Synatx"
      ]
    },
    {
      "cell_type": "markdown",
      "metadata": {
        "id": "HwcqZLtWzTbs",
        "colab_type": "text"
      },
      "source": [
        "* termm -> main Terminal\n",
        "* WH -> Main formula\n",
        "* term -> replace terminal for nt\n",
        "* rhs -> replace non_terminal"
      ]
    },
    {
      "cell_type": "markdown",
      "metadata": {
        "id": "wCK264qYfB5x",
        "colab_type": "text"
      },
      "source": [
        "Run all\n",
        "\n",
        "# Input Formate: attached with this file in github"
      ]
    },
    {
      "cell_type": "code",
      "metadata": {
        "id": "rcRBwICD7auc",
        "colab_type": "code",
        "colab": {}
      },
      "source": [
        "def create_cfg_int(formula,form_name):\n",
        "  #to save rhs & terminals\n",
        "  wh = [] # to save RHS of Non Terminals\n",
        "  term = [] # to save LHS of Terminals\n",
        "  rhs  = [] # to save RHS of Terminals\n",
        "  termm = [] # to save LHS of Non Terminals\n",
        "  # to generate randomn string\n",
        "  def string_generator(lst,size=4):\n",
        "    import string, random\n",
        "    chars = string.ascii_uppercase\n",
        "    v = ''.join(random.choice(chars) for _ in range(size))\n",
        "    if v in lst:\n",
        "      return string_generator(lst)\n",
        "    return v\n",
        "  # to find \"[ ]\" values in list & replace it with string & store replace value & replaced value in rhs & terms \n",
        "  def rep_val_list(RHS,rep_val,key_val):\n",
        "    rep = []\n",
        "    for ik in range(len(RHS)):\n",
        "      txt = \" \"+ str(RHS[ik]) + \" \"\n",
        "      rrr = \" \"+ rep_val +\" \"\n",
        "      kv = \" \"+ key_val+\" \"\n",
        "      a = txt.replace(rrr,kv)\n",
        "      #print(a)\n",
        "      rep.append(a.strip())\n",
        "    return rep\n",
        "  # to create CFG form from syntax\n",
        "  def create_cfg(whole_lst):\n",
        "    iwh = []\n",
        "    iterm = []\n",
        "    irhs  = []\n",
        "    itermm = []\n",
        "    import nltk\n",
        "    import re\n",
        "    import string\n",
        "    import random\n",
        "    # find the index of bracket in the value\n",
        "    def find_i(str_txt,bracket):\n",
        "      bac = [i for i, x in enumerate(str_txt) if x == bracket[0]]\n",
        "      bbc = [i for i, x in enumerate(str_txt) if x == bracket[1]]\n",
        "      return bac,bbc\n",
        "    #seperating parrent & child values inside brackets\n",
        "    def find_val_i(str_txt,open_i,end_i):\n",
        "      bval = []\n",
        "      bb1 = []\n",
        "      ooo = []\n",
        "      bb2 = [] \n",
        "      for jj in end_i:\n",
        "        s = [i for i in open_i if i<jj]\n",
        "        for l in range(len(s)):\n",
        "          x = (l+1)*-1\n",
        "          if s[x] not in bb1:\n",
        "            #print (\"b :\",s[x])\n",
        "            bb = s[x]\n",
        "            bb1.append(bb)\n",
        "            bb2.append(jj)\n",
        "            break\n",
        "        #print(bb , jj)\n",
        "        bval.append(str_txt[bb:jj+1])\n",
        "        ooo.append(str_txt[bb:jj+1])\n",
        "      return ooo, bb1, bb2\n",
        "\n",
        "    def sep_ind_bb(lst_sq,lst_bb):\n",
        "      ind_bb = []\n",
        "      odd = []\n",
        "      for i in lst_bb:\n",
        "        if any(i in word for word in lst_sq):\n",
        "          ind_bb.append(i)\n",
        "        else:\n",
        "          odd.append(i)\n",
        "      return ind_bb,odd\n",
        "\n",
        "    def rep_bb_id(txt,bb_lst):\n",
        "      for i in range(len(bb_lst)):\n",
        "        tm = string_generator(term)\n",
        "        iterm.append(tm)\n",
        "        irhs.append(bb_lst[i])\n",
        "        term.append(tm)\n",
        "        rhs.append(bb_lst[i])\n",
        "        txt = txt.replace(bb_lst[i],tm)\n",
        "      return txt\n",
        "    #to replace value inside bracket\n",
        "    def rep_bra_val(intt,bracket_str):\n",
        "      rrs = [] #rhs val\n",
        "      ter = [] # terminals\n",
        "      while any(bracket_str in s for s in intt):\n",
        "        one = []\n",
        "        tt =[]\n",
        "        for j in range(len(intt)):\n",
        "          q = intt[j].count(bracket_str)\n",
        "          if q ==1:\n",
        "            one.append(intt[j])\n",
        "        one = list(dict.fromkeys(one))\n",
        "        for o in one:\n",
        "          rrs.append(o)\n",
        "        for i in range(len(one)):\n",
        "          stg = string_generator(term,size=4)\n",
        "          tt.append(stg)\n",
        "          ter.append(stg)\n",
        "          term.append(stg)\n",
        "          rhs.append(one[i])\n",
        "          iterm.append(stg)\n",
        "          irhs.append(one[i])\n",
        "          intt = rep_val_list(intt,one[i],stg)\n",
        "      return rrs, ter\n",
        "    #to replace value inside the bracket of bracket value\n",
        "    def rep_bra_val_isd(intt,bracket_str,rrr,ter=[]):\n",
        "      #rhs val\n",
        "      qq = []\n",
        "      while any(bracket_str in s for s in intt):\n",
        "        #rhss = intt\n",
        "        jj = []\n",
        "        sd = []\n",
        "        sz = []\n",
        "        #print(rrr)\n",
        "        #print(intt)\n",
        "        for i in intt: \n",
        "          #print(i)\n",
        "          if i in rrr:\n",
        "            rrr.remove(i)\n",
        "          if \"{\" in i:\n",
        "            jj.append(i)\n",
        "        #global qq\n",
        "        h = \" \".join(ot)\n",
        "        sa, se = find_i(h,\"{}\")\n",
        "        sd = []\n",
        "        sz = []\n",
        "        for pl in sa:\n",
        "          sd.append(pl)\n",
        "        for op in se:\n",
        "          sz.append(op)\n",
        "        #sd,sz\n",
        "        for i in range(len(sd)):\n",
        "          dd = h[sd[i]:sz[i]+1]\n",
        "          qq.append(dd)\n",
        "\n",
        "        for i in range(len(qq)):\n",
        "          stg = string_generator(term,size=4)\n",
        "          term.append(stg)\n",
        "          iterm.append(stg)\n",
        "          ter.append(stg)\n",
        "          intt = rep_val_list(intt,qq[i],stg) \n",
        "        for i in intt:\n",
        "          rhs.append(i)\n",
        "          irhs.append(i)\n",
        "      for i in qq:\n",
        "        intt.append(i)\n",
        "        rhs.append(i)\n",
        "        irhs.append(i)\n",
        "      return intt,ter, qq\n",
        "    \n",
        "    # create multiple form for square bracket with & without\n",
        "    def rep_val1(dup_lst,str_txt):\n",
        "      k = []\n",
        "      dup = []\n",
        "      for j in range(len(dup_lst)):\n",
        "        #for i in range(len(str_txt)):\n",
        "          if dup_lst[j] in str_txt:\n",
        "              aa = str_txt.replace(dup_lst[j],\"\")\n",
        "              if aa not in k:\n",
        "                k.append(aa)\n",
        "                dup.append(dup_lst[j])      \n",
        "      return k, dup\n",
        "        \n",
        "    for i in range(len(whole_lst)):\n",
        "      a = whole_lst[i]\n",
        "      #to replace previously duplicated value\n",
        "      for i,j in zip(term,rhs):\n",
        "          a = a.replace(j,i)\n",
        "      # \"[\" is optional bracker so, we nedd to create all possibilities of RHS with & without This bracket value\n",
        "      if \"[\" in a:\n",
        "        a = a.replace('\\n','')\n",
        "        bba,bbe = find_i(a,\"{}\") # finding index of { bracket\n",
        "        sqa,sqe = find_i(a,\"[]\") # finding index of [ bracket\n",
        "        obk,b1,b2   = find_val_i(a,bba,bbe) # finding the value inside the bracket\n",
        "        opt,lt1,lt2 = find_val_i(a,sqa,sqe) # finding the value inside the bracket\n",
        "        ltt = list(zip(lt1,lt2)) \n",
        "        btt = list(zip(b1,b2))\n",
        "        obb,bz = sep_ind_bb(opt,obk) # seperating value inside different bracket\n",
        "        for i in bz:\n",
        "          tm = string_generator(term) # grnerating string for LHS\n",
        "          term.append(tm) # term is universal -> to avoid generation of same string again\n",
        "          rhs.append(i)\n",
        "          iterm.append(tm) # trem which saves string inside loop along with rhs because we will zip them together\n",
        "          irhs.append(i)\n",
        "          a = a.replace(i,tm) # replace the value with generated string\n",
        "          for i,j in zip(iterm,irhs):\n",
        "            whole_lst = rep_val_list(whole_lst,j,i) # replaceing that in all of the list to avoid creating dup string for same key\n",
        "\n",
        "        if any(\"{\" in word for word in opt):\n",
        "          #two type of bracket\n",
        "          ot,otr = rep_bra_val(opt,\"[\")\n",
        "          rh, ter, oa = rep_bra_val_isd(ot,\"{\",rhs,otr) \n",
        "   \n",
        "        else:\n",
        "          #one bracker\n",
        "          rh,ter = rep_bra_val(opt,\"[\")\n",
        "          ot = rh.copy()\n",
        "          otr = ter.copy()\n",
        "        s = a\n",
        "        for i in range(len(ot)):\n",
        "          s = s.replace(ot[i],otr[i])    \n",
        "        \n",
        "        # if there is no [ or } it will save simply\n",
        "        if len(obb)==0 |len(opt)==0:\n",
        "          form = [s]\n",
        "          \n",
        "        else:\n",
        "        # [ is optional. so, we are creating all possibilities in this part\n",
        "          qqq = s\n",
        "          otrr = otr.copy()\n",
        "          form = []\n",
        "          while len(otrr) >= 1:\n",
        "            qqq,otrr = rep_val1(otrr,qqq)\n",
        "            form += qqq\n",
        "        # it is the formula without any bracket values\n",
        "        # bracket values were seperated \n",
        "        for i in form:\n",
        "          wh.append(s)\n",
        "          wh.append(i)\n",
        "          iwh.append(s)\n",
        "          iwh.append(i)\n",
        "      # for value that has only {     \n",
        "      if \"{\" in a and \"[\" not in a :\n",
        "        a = a.replace('\\n','')\n",
        "        bba,bbe = find_i(a,\"{}\")\n",
        "        obk,b1,b2   = find_val_i(a,bba,bbe) \n",
        "        btt = list(zip(b1,b2))   \n",
        "        for i in obk:\n",
        "          tm = string_generator(term)\n",
        "          term.append(tm)\n",
        "          rhs.append(i)\n",
        "          iterm.append(tm)\n",
        "          irhs.append(i)\n",
        "          a = a.replace(i,tm)\n",
        "        wh.append(a)\n",
        "        iwh.append(a)\n",
        "      # the value without bracket\n",
        "      if \"[\" not in a and \"{\" not in a:\n",
        "        wh.append(a)\n",
        "        iwh.append(a)      \n",
        "      for i,j in zip(iterm,irhs):\n",
        "        whole_lst = rep_val_list(whole_lst,j,i)\n",
        "    return iwh,irhs,iterm\n",
        "  # | -> is or. we are going to replace it.\n",
        "  def create_nonter(RHS_w,RHS_nt,terminals_lst):\n",
        "    rlst = []\n",
        "    for i in RHS_nt:\n",
        "      rlst.append(i[1:-1])\n",
        "    for i in RHS_w:\n",
        "      rlst.append(i)\n",
        "    rtxt = \" \".join(rlst)\n",
        "    rlst = rtxt.split()\n",
        "    rlst = list(set(rlst))\n",
        "    if \"|\" in rlst:\n",
        "      rlst.remove(\"|\")\n",
        "    rrst = [i for i in rlst if i not in terminals_lst]\n",
        "    return rrst\n",
        "  # first we are going to create all posible rhs without bracket\n",
        "  if len(form_name) == len(formula):\n",
        "    for i in range(len(form_name)):\n",
        "      a,b,c = create_cfg(formula[i])\n",
        "      #creating LHS for RHS\n",
        "      for l in range(len(a)):\n",
        "        termm.append(form_name[i])\n",
        "    termfort = term.copy()\n",
        "    \n",
        "    non_tt = create_nonter(wh,rhs,term)\n",
        "\n",
        "    tter = []\n",
        "    for i in range(len(non_tt)):\n",
        "      tm = string_generator(term)\n",
        "      tter.append(tm)\n",
        "\n",
        "    wwh = wh.copy()\n",
        "    wrhs = rhs.copy()\n",
        "    wrhs = list(map(lambda x: x.replace(']','').replace('[','').replace('{','').replace('}',''),wrhs))\n",
        "    for op in range(len(non_tt)):\n",
        "      wwh = rep_val_list(wwh,non_tt[op],tter[op])\n",
        "      wrhs = rep_val_list(wrhs,non_tt[op],tter[op])\n",
        "    terminal_opt = []\n",
        "    #print(termm)\n",
        "    \n",
        "    for i, j in zip(termm,wwh):\n",
        "      lop1 = \"\".join(i +\" -> \"+ j)\n",
        "      terminal_opt.append(lop1)\n",
        "    for i, j in zip(termfort,wrhs):\n",
        "      lop1 = \"\".join(i +\" -> \"+ j)\n",
        "      terminal_opt.append(lop1)\n",
        "\n",
        "    nonterminal_opt = []\n",
        "    for i, j in zip(tter,non_tt):\n",
        "      lop2 = \"\".join(i +\" -> \"+ j)\n",
        "      nonterminal_opt.append(lop2)\n",
        "    terminal_opt = list(dict.fromkeys(terminal_opt))\n",
        "  return terminal_opt , nonterminal_opt"
      ],
      "execution_count": 0,
      "outputs": []
    },
    {
      "cell_type": "code",
      "metadata": {
        "colab_type": "code",
        "outputId": "06d78817-427d-433e-f879-022eb36e2881",
        "id": "WraJsGemW1mr",
        "colab": {
          "base_uri": "https://localhost:8080/",
          "height": 111
        }
      },
      "source": [
        "# importing csv\n",
        "import pandas as pd\n",
        "df = pd.read_excel(\"/content/postgresql syntax.xlsx\",1)\n",
        "df[:2]"
      ],
      "execution_count": 0,
      "outputs": [
        {
          "output_type": "execute_result",
          "data": {
            "text/html": [
              "<div>\n",
              "<style scoped>\n",
              "    .dataframe tbody tr th:only-of-type {\n",
              "        vertical-align: middle;\n",
              "    }\n",
              "\n",
              "    .dataframe tbody tr th {\n",
              "        vertical-align: top;\n",
              "    }\n",
              "\n",
              "    .dataframe thead th {\n",
              "        text-align: right;\n",
              "    }\n",
              "</style>\n",
              "<table border=\"1\" class=\"dataframe\">\n",
              "  <thead>\n",
              "    <tr style=\"text-align: right;\">\n",
              "      <th></th>\n",
              "      <th>NAME</th>\n",
              "      <th>formula</th>\n",
              "    </tr>\n",
              "  </thead>\n",
              "  <tbody>\n",
              "    <tr>\n",
              "      <th>0</th>\n",
              "      <td>CREATE_TABLE</td>\n",
              "      <td>CREATE TABLE { database_name.schema_name.table...</td>\n",
              "    </tr>\n",
              "    <tr>\n",
              "      <th>1</th>\n",
              "      <td>&lt;column_definition&gt;</td>\n",
              "      <td>column_name &lt;data_type&gt; [ FILESTREAM ] [ COLLA...</td>\n",
              "    </tr>\n",
              "  </tbody>\n",
              "</table>\n",
              "</div>"
            ],
            "text/plain": [
              "                  NAME                                            formula\n",
              "0         CREATE_TABLE  CREATE TABLE { database_name.schema_name.table...\n",
              "1  <column_definition>  column_name <data_type> [ FILESTREAM ] [ COLLA..."
            ]
          },
          "metadata": {
            "tags": []
          },
          "execution_count": 2
        }
      ]
    },
    {
      "cell_type": "code",
      "metadata": {
        "colab_type": "code",
        "id": "zP17DM88W0-t",
        "colab": {}
      },
      "source": [
        "#replacing extra space in list\n",
        "def rem_xtr_spc(input_lst):\n",
        "  lst = []\n",
        "  for i in input_lst:\n",
        "    lst.append(' '.join(i.split()))\n",
        "  return lst  \n",
        "# creating list from df\n",
        "df[\"formula\"] = \" \"+df[\"formula\"] +\" \"\n",
        "names = list(df[\"NAME\"].unique())\n",
        "#for i in\n",
        "formulas = []\n",
        "for i in names:\n",
        "  forms = list(df[\"formula\"][df[\"NAME\"]==i])\n",
        "  formulas.append(forms)\n",
        "# replacing extra space\n",
        "name = rem_xtr_spc(names)\n",
        "formula = []\n",
        "for ii in formulas:\n",
        "  formula.append(rem_xtr_spc(ii))\n",
        "#formula = rem_xtr_spc(formulas)"
      ],
      "execution_count": 0,
      "outputs": []
    },
    {
      "cell_type": "code",
      "metadata": {
        "id": "h9y6sHvRWRBp",
        "colab_type": "code",
        "colab": {}
      },
      "source": [
        "#cfg creation\n",
        "p,q = create_cfg_int(formula,names)"
      ],
      "execution_count": 0,
      "outputs": []
    },
    {
      "cell_type": "code",
      "metadata": {
        "id": "cmTNWh6acPsg",
        "colab_type": "code",
        "outputId": "b7da87fa-bed5-4539-c9c4-6cecac6b9eb7",
        "colab": {
          "base_uri": "https://localhost:8080/",
          "height": 34
        }
      },
      "source": [
        "#removing extra space\n",
        "a = rem_xtr_spc(p)\n",
        "b = rem_xtr_spc(q) \n",
        "print(len(a))"
      ],
      "execution_count": 0,
      "outputs": [
        {
          "output_type": "stream",
          "text": [
            "174\n"
          ],
          "name": "stdout"
        }
      ]
    },
    {
      "cell_type": "code",
      "metadata": {
        "id": "QmovWoPp3LoQ",
        "colab_type": "code",
        "colab": {}
      },
      "source": [
        "qr = [i for i in a if \"|\" in i] \n",
        "# finding ( position that | will be replacable within itself \n",
        "obr = [i for i in b if \"-> (\" in i][0].split()[0]\n",
        "cbr = [i for i in b if \"-> )\" in i][0].split()[0]\n",
        "#finding values between ( )\n",
        "wbr = [i for i in qr if obr in i] \n",
        "fh = []\n",
        "ch = []\n",
        "sst = []\n",
        "ss = []\n",
        "for i in range(len(wbr)):\n",
        "  id1 = wbr[i].index(obr)\n",
        "  id2 = wbr[i].index(cbr)\n",
        "  sb = wbr[i][id1+5:id2]\n",
        "  if \"|\" in sb:\n",
        "    sst.append(wbr[i])\n",
        "    ss.append(sb)\n",
        "for i in ss:\n",
        "  ch.append(i.split(\"|\"))\n",
        "for i in range(len(sst)):\n",
        "  for j in range(len(ch[i])):\n",
        "    fg = sst[i].replace(ss[i],ch[i][j])\n",
        "    fh.append(fg)\n",
        "# removing | values. Hence, new value is created\n",
        "for i in sst:\n",
        "  a.remove(i)\n",
        "for i in fh:\n",
        "  a.append(i)"
      ],
      "execution_count": 0,
      "outputs": []
    },
    {
      "cell_type": "code",
      "metadata": {
        "id": "l96tXRew5eTQ",
        "colab_type": "code",
        "colab": {}
      },
      "source": [
        "# the | in terminals is replaced & new posibilities is created\n",
        "srr = []\n",
        "qw = []\n",
        "sr = []\n",
        "qr = [i for i in a if \"|\" in i] \n",
        "for i in range(len(qr)):\n",
        "  n = qr[i].index(\"->\") +3\n",
        "  sr.append(qr[i][n:])\n",
        "\n",
        "for i in range(len(sr)):\n",
        "  srr.append(sr[i].split(\"|\"))\n",
        "\n",
        "for i in range(len(qr)):\n",
        "  for j in range(len(srr[i])):\n",
        "    jk = qr[i].replace(sr[i],srr[i][j])\n",
        "    qw.append(jk)\n",
        "\n",
        "for i in qr:\n",
        "  a.remove(i)\n",
        "for i in qw:\n",
        "  a.append(i)\n",
        "\n",
        "cfg = []\n",
        "cffg = []\n",
        "for i in a:\n",
        "  kk = i.split(\"->\")[1]\n",
        "  no = len(kk.split())\n",
        "  if no >2:\n",
        "    cfg.append(i)\n",
        "  else:\n",
        "    cffg.append(i)\n",
        "rcfg = rem_xtr_spc(cfg)\n",
        "rcffg = rem_xtr_spc(cffg)"
      ],
      "execution_count": 0,
      "outputs": []
    },
    {
      "cell_type": "code",
      "metadata": {
        "colab_type": "code",
        "id": "h1zEGagYep4W",
        "colab": {}
      },
      "source": [
        "val = a.copy()\n",
        "for i in b:\n",
        "  val.append(i)"
      ],
      "execution_count": 0,
      "outputs": []
    },
    {
      "cell_type": "code",
      "metadata": {
        "colab_type": "code",
        "id": "6zgEHCskeouP",
        "colab": {}
      },
      "source": [
        "pd.DataFrame(val).to_csv(\"Output.csv\")"
      ],
      "execution_count": 0,
      "outputs": []
    },
    {
      "cell_type": "markdown",
      "metadata": {
        "id": "LQpZAwUKfSHJ",
        "colab_type": "text"
      },
      "source": [
        "# To convert CFG into CNF"
      ]
    },
    {
      "cell_type": "code",
      "metadata": {
        "id": "vizcpvPdAGuA",
        "colab_type": "code",
        "colab": {}
      },
      "source": [
        "cfgtocon = pd.DataFrame(rcfg,columns = [\"A\"],)\n",
        "cfgtoadd = pd.DataFrame(rcffg,columns = [\"A\"])\n",
        "cfgtocon.to_csv(\"Output_to_con_cfg.csv\")\n",
        "cfgtoadd.to_csv(\"Output_to_add_cnf.csv\")"
      ],
      "execution_count": 0,
      "outputs": []
    },
    {
      "cell_type": "code",
      "metadata": {
        "id": "5U0KY4pji7LZ",
        "colab_type": "code",
        "colab": {}
      },
      "source": [
        "def in_csv(filepath):\n",
        "  #filepath = \"/content/CFG.xlsx\"\n",
        "  import pandas as pd\n",
        "  df = pd.read_csv(filepath)\n",
        "  if df.shape[1]>2:\n",
        "    print(\"Please recheck the input format...! only formula of terminal is enough\")\n",
        "  else:\n",
        "    df[\"B\"] = df[\"A\"].apply(lambda x: x.split(\"->\")[0])\n",
        "    df[\"C\"] = df[\"A\"].apply(lambda x: x.split(\"->\")[1])\n",
        "    l = df[\"B\"].to_list()\n",
        "    r = df[\"C\"].to_list()\n",
        "\n",
        "    #l = [] #LHS of CFG\n",
        "    #r = [] #RHS of CFG\n",
        "    def CON_CNF(LR,RF):\n",
        "      lhs = LR\n",
        "      rhs = RF\n",
        "      rr = RF #copying\n",
        "      ter = [] #terminals that going to rep\n",
        "      klst = [] # rep keys\n",
        "      \n",
        "      import string\n",
        "      import random\n",
        "      def string_generator(lst,size=3):\n",
        "        chars = string.ascii_uppercase\n",
        "        v = ''.join(random.choice(chars) for _ in range(size))\n",
        "        if v in lst:\n",
        "          return string_generator(lst)\n",
        "        else:\n",
        "          return v\n",
        "\n",
        "      def rep_val_list(RHS,rep_val,key_val):\n",
        "        rep = []\n",
        "        for ik in range(len(RHS)):\n",
        "          txt = \" \"+ str(RHS[ik]) + \" \"\n",
        "          rrr = \" \"+ rep_val +\" \"\n",
        "          kv = \" \"+ key_val+\" \"\n",
        "          a = txt.replace(rrr,kv)\n",
        "          #print(a)\n",
        "          rep.append(a.strip())\n",
        "        return rep\n",
        "\n",
        "      for ij in range(len(rr)):\n",
        "        text = rr[ij]\n",
        "        x = text.split()\n",
        "        while len(x)> 2:\n",
        "          if len(x)>2:\n",
        "            s = x[:2]\n",
        "            k = \" \".join(s)\n",
        "            ter.append(k)\n",
        "            u = string_generator(klst)\n",
        "            klst.append(u)\n",
        "            text = text.replace(k,u)\n",
        "            x = text.split()\n",
        "            #print(k,u)\n",
        "            rr = rep_val_list(rr,k,u)\n",
        "            #print(rr)\n",
        "            lhs.append(u)\n",
        "          if len(x) == 2:\n",
        "            break\n",
        "      for il in ter:\n",
        "        rr.append(il)\n",
        "      return lhs, rr\n",
        "\n",
        "    B,C = CON_CNF(l,r)\n",
        "    ddd = pd.DataFrame(list(zip(B, C)),columns =['org', 'rep']) \n",
        "    ddd[\"FR\"] = ddd[\"org\"]+ \"-> \" +ddd[\"rep\"]\n",
        "    #ddd.to_csv(\"CNFABC.csv\") #delete # if you need output of LHS & RHS seperatly\n",
        "    ddd[\"FR\"].to_csv(\"CNF.csv\") #output in A->B format\n",
        "  return list(ddd[\"FR\"])"
      ],
      "execution_count": 0,
      "outputs": []
    },
    {
      "cell_type": "code",
      "metadata": {
        "id": "2ZsgIXvw6nJM",
        "colab_type": "code",
        "outputId": "445f87d9-c5c6-4269-c1f4-a3c8b7d76932",
        "colab": {
          "base_uri": "https://localhost:8080/",
          "height": 54
        }
      },
      "source": [
        "oops = in_csv(\"/content/Output_to_con_cfg.csv\")"
      ],
      "execution_count": 0,
      "outputs": [
        {
          "output_type": "stream",
          "text": [
            "/usr/local/lib/python3.6/dist-packages/ipykernel_launcher.py:69: FutureWarning: The signature of `Series.to_csv` was aligned to that of `DataFrame.to_csv`, and argument 'header' will change its default value from False to True: please pass an explicit value to suppress this warning.\n"
          ],
          "name": "stderr"
        }
      ]
    },
    {
      "cell_type": "code",
      "metadata": {
        "id": "VTlxa3uw_OX_",
        "colab_type": "code",
        "colab": {}
      },
      "source": [
        "for i in rcffg:\n",
        "  oops.append(i)\n",
        "opl = list(dict.fromkeys(oops))\n",
        "#len(opl)\n",
        "for i in b:\n",
        "  opl.append(i)"
      ],
      "execution_count": 0,
      "outputs": []
    },
    {
      "cell_type": "code",
      "metadata": {
        "id": "G8FkFe1dAlsE",
        "colab_type": "code",
        "colab": {}
      },
      "source": [
        "pd.DataFrame(opl,columns = [\"A\"],).to_csv(\"CNF_FORM.csv\")"
      ],
      "execution_count": 0,
      "outputs": []
    },
    {
      "cell_type": "code",
      "metadata": {
        "id": "jbxqEN8KA_Mk",
        "colab_type": "code",
        "outputId": "9031b2ad-13df-4dec-ff14-e1fcab560542",
        "colab": {
          "base_uri": "https://localhost:8080/",
          "height": 119
        }
      },
      "source": [
        "opl[:6]"
      ],
      "execution_count": 0,
      "outputs": [
        {
          "output_type": "execute_result",
          "data": {
            "text/plain": [
              "['<column_definition> -> VCE PCEX',\n",
              " '<column_definition> -> WDG PCEX',\n",
              " '<column_definition> -> GZX PCEX',\n",
              " '<column_definition> -> OGA PCEX',\n",
              " '<column_definition> -> QDX PCEX',\n",
              " '<column_definition> -> TKM PCEX']"
            ]
          },
          "metadata": {
            "tags": []
          },
          "execution_count": 22
        }
      ]
    },
    {
      "cell_type": "code",
      "metadata": {
        "id": "IRyVZAHXD9_x",
        "colab_type": "code",
        "colab": {}
      },
      "source": [
        ""
      ],
      "execution_count": 0,
      "outputs": []
    }
  ]
}